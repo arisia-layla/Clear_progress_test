{
 "cells": [
  {
   "attachments": {},
   "cell_type": "markdown",
   "metadata": {},
   "source": [
    "문제 : Write a program called search_and_replace that takes 3 arguments, the first \n",
    "arguments is a string in which to replace a letter (2nd argument) by\n",
    "another one (3rd argument).\n",
    "If the number of arguments is not 3, just display a newline.\n",
    "If the second argument is not contained in the first one (the string)\n",
    "then the program simply rewrites the string followed by a newline.\n",
    "\n",
    "번역 : search_and_replace라는 프로그램을 작성하십시오. 이 프로그램은 3개의 인수를 사용합니다. 첫 번째 인수는 문자열이고, 두 번째 인수(문자)를 세 번째 인수(다른 문자)로 바꿉니다.\n",
    "인수의 수가 3개가 아닌 경우 개행만 표시합니다.\n",
    "두 번째 인수가 첫 번째 인수(문자열)에 포함되지 않은 경우 프로그램은 단순히 문자열을 다시 작성한 다음 개행합니다."
   ]
  },
  {
   "attachments": {},
   "cell_type": "markdown",
   "metadata": {},
   "source": [
    "목표 출력\n",
    "Examples:\n",
    "$>./search_and_replace \"Papache est un sabre\" \"a\" \"o\"\n",
    "Popoche est un sobre\n",
    "$>./search_and_replace \"zaz\" \"art\" \"zul\" | cat -e\n",
    "$\n",
    "$>./search_and_replace \"zaz\" \"r\" \"u\" | cat -e\n",
    "zaz$\n",
    "$>./search_and_replace \"jacob\" \"a\" \"b\" \"c\" \"e\" | cat -e\n",
    "$\n",
    "$>./search_and_replace \"ZoZ eT Dovid oiME le METol.\" \"o\" \"a\" | cat -e\n",
    "ZaZ eT David aiME le METal.$\n",
    "$>./search_and_replace \"wNcOre Un ExEmPle Pas Facilw a Ecrirw \" \"w\" \"e\" | cat -e\n",
    "eNcOre Un ExEmPle Pas Facile a Ecrire $"
   ]
  },
  {
   "attachments": {},
   "cell_type": "markdown",
   "metadata": {},
   "source": [
    "풀이 과정\n",
    "search_and_replace 프로그램을 작성한다 \"$>./search_and_replace\" 는 실행자이므로 파이썬 파일로 저장한다 \\n\n",
    "A. search_and_replace 함수를 우선 작성 하며 모든 인수가 문자를 수신하기 때문에 str로 변경\n",
    "| cat -e 는 MacOS 에서 사용하는 파일 내용 출력 함수이므로 윈도우 환경에서는 무시한다\n",
    "\n",
    "input을 통해 데이터를 받고 split 을 통해 데이터를 문자열로 구분한다 ( B의 과정을 진행하기 위해 )"
   ]
  },
  {
   "cell_type": "code",
   "execution_count": 9,
   "metadata": {},
   "outputs": [
    {
     "name": "stdout",
     "output_type": "stream",
     "text": [
      "['a', 'v', 'v']\n"
     ]
    }
   ],
   "source": [
    "extract = input().split()\n",
    "print(extract)"
   ]
  },
  {
   "attachments": {},
   "cell_type": "markdown",
   "metadata": {},
   "source": [
    "B. 인수의 수가 3개 이상이라면 무시한다\n",
    "=> 리스트의 개수를 len을 통해 불러오고 개수가 4개 이상이라면 공백을 반환하고 실행을 종료한다"
   ]
  },
  {
   "cell_type": "code",
   "execution_count": 24,
   "metadata": {},
   "outputs": [
    {
     "name": "stdout",
     "output_type": "stream",
     "text": [
      "success\n"
     ]
    }
   ],
   "source": [
    "def search_and_replace():\n",
    "    extract = input().split()\n",
    "    if(len(extract)>=4):\n",
    "        print(\"\")\n",
    "    else:\n",
    "        print(\"success\")\n",
    "search_and_replace()"
   ]
  },
  {
   "attachments": {},
   "cell_type": "markdown",
   "metadata": {},
   "source": [
    "C. 입력값 변경하기\n",
    "입력받은 A,B,C 3개의 인수에서 A에 B가 포함되었을 경우 C로 변경한다\n",
    "아닌 경우 변환되지 않은 값을 출력한다\n",
    "\n",
    "=> A에 B가 포함되었는지 확인한다 if extract[1] in extract[0]\n",
    "만약 extrace[0]의 값이 extract[1]에 포함되었다면 True 를 반환하기 때문에 if 문이 진행되며\n",
    "포함되지 않은 경우 replace 작업을 하지 않고 else 를 통해 탈출한다\n",
    "\n",
    "만약 위의 작업 수행 후\n",
    "=> replace(x,y) 문법을 활용하여 입력받은 extract[1]번 변수(변경할 문자열)을 x, extract[1]번을 변경할 문자로 설정하여 y에 넣는다"
   ]
  },
  {
   "cell_type": "code",
   "execution_count": 31,
   "metadata": {},
   "outputs": [
    {
     "name": "stdout",
     "output_type": "stream",
     "text": [
      "daf\n"
     ]
    }
   ],
   "source": [
    "def search_and_replace():\n",
    "    extract = input().split()\n",
    "    if(len(extract)>=4):\n",
    "        print(\"\")\n",
    "    elif(len(extract)<=2):\n",
    "        print(\"\")\n",
    "    else:\n",
    "        if extract[1] in extract[0]:\n",
    "            print(extract[0].replace(extract[1], extract[2]))\n",
    "        else:\n",
    "            extract[0]\n",
    "search_and_replace()"
   ]
  },
  {
   "attachments": {},
   "cell_type": "markdown",
   "metadata": {},
   "source": [
    "=> 추가된 정보 유저의 입력값이 3개 이하일 경우의 조건은 정의되지 않았으나 오류가 발생한다\n",
    "그렇기 때문에 4개 이상의 입력값이 수신되었을 때와 동일하게 \"\"을 출력\n",
    "( 조건에 정의되지 않았음으로 없어도 되는 값으로 간주한다 )"
   ]
  },
  {
   "attachments": {},
   "cell_type": "markdown",
   "metadata": {},
   "source": [
    "코드 테스트 A"
   ]
  },
  {
   "cell_type": "code",
   "execution_count": 115,
   "metadata": {},
   "outputs": [
    {
     "name": "stdout",
     "output_type": "stream",
     "text": [
      "['Papache est un sabre', 'a', 'o']\n",
      "['', 'Papache est un sabre', ' ', 'a', ' ', 'o', '']\n"
     ]
    }
   ],
   "source": [
    "extract = input().split('\"',-3)\n",
    "ep = []\n",
    "ep.append(extract[1])\n",
    "ep.append(extract[3])\n",
    "ep.append(extract[5])\n",
    "print(ep)"
   ]
  },
  {
   "cell_type": "code",
   "execution_count": 9,
   "metadata": {},
   "outputs": [
    {
     "name": "stdout",
     "output_type": "stream",
     "text": [
      "['', 'Papache est un sabre', ' ', 'a', ' ', 'o', '']\n"
     ]
    }
   ],
   "source": [
    "extract = input().split('\"',-3)\n",
    "print(extract)\n",
    "\n",
    "# \"Papache est un sabre\" \"a\" \"o\""
   ]
  },
  {
   "cell_type": "code",
   "execution_count": 24,
   "metadata": {},
   "outputs": [
    {
     "name": "stdout",
     "output_type": "stream",
     "text": [
      "1\n",
      "3\n",
      "5\n"
     ]
    }
   ],
   "source": [
    "for i in range(1,6,2):\n",
    "    print(i)"
   ]
  },
  {
   "cell_type": "code",
   "execution_count": 25,
   "metadata": {},
   "outputs": [
    {
     "name": "stdout",
     "output_type": "stream",
     "text": [
      "Popoche est un sobre\n"
     ]
    }
   ],
   "source": [
    "def search_and_replace():\n",
    "    extract = input().split('\"',-3)\n",
    "    ep = []\n",
    "    if(len(extract)>=8):\n",
    "        print(\"\")\n",
    "    elif(len(extract)<=5):\n",
    "        print(\"\")\n",
    "    else:\n",
    "        for i in range(1,6,2):\n",
    "            ep.append(extract[i])\n",
    "        if ep[1] in ep[0]:\n",
    "            print(ep[0].replace(ep[1], ep[2]))\n",
    "        else:\n",
    "            print(ep[0])\n",
    "search_and_replace()"
   ]
  },
  {
   "attachments": {},
   "cell_type": "markdown",
   "metadata": {},
   "source": [
    "오류를 수정한 최종 코드\n",
    "\n",
    "오류 원인 input으로 들어온 값을 split() = split('')을 통해 잘랐지만 ' \" \" ' , '  '(띄어쓰기) 변수를 고려하지 않음\n",
    "\n",
    "=> 수정 방법\n",
    "ep 라는 새로운 리스트 선언 및 기존 코드를 최대한 보존하는 방향으로 진행\n",
    "+ 배열값의 한계를 >=8로 설정하여 그 이상 배열과 5( 최저 ) 이하의 값이 들어왔을 경우 예제와 같이 \" \" 를 출력하여 무시"
   ]
  },
  {
   "cell_type": "code",
   "execution_count": 28,
   "metadata": {},
   "outputs": [
    {
     "name": "stdout",
     "output_type": "stream",
     "text": [
      "\n"
     ]
    }
   ],
   "source": [
    "def search_and_replace():\n",
    "    extract = input().split('\"',-3)\n",
    "    ep = []\n",
    "    if(len(extract)>=8):\n",
    "        print(\"\")\n",
    "    elif(len(extract)<=5):\n",
    "        print(\"\")\n",
    "    else:\n",
    "        for i in range(1,6,2):\n",
    "            ep.append(extract[i])\n",
    "        if ep[1] in ep[0]:\n",
    "            print(ep[0].replace(ep[1], ep[2]))\n",
    "        else:\n",
    "            print(ep[0])\n",
    "search_and_replace()"
   ]
  },
  {
   "attachments": {},
   "cell_type": "markdown",
   "metadata": {},
   "source": [
    "목표 출력\n",
    "Examples:\n",
    "$>./search_and_replace \"Papache est un sabre\" \"a\" \"o\"\n",
    "Popoche est un sobre\n",
    "$>./search_and_replace \"zaz\" \"art\" \"zul\" | cat -e\n",
    "$\n",
    "$>./search_and_replace \"zaz\" \"r\" \"u\" | cat -e\n",
    "zaz$\n",
    "$>./search_and_replace \"jacob\" \"a\" \"b\" \"c\" \"e\" | cat -e\n",
    "$\n",
    "$>./search_and_replace \"ZoZ eT Dovid oiME le METol.\" \"o\" \"a\" | cat -e\n",
    "ZaZ eT David aiME le METal.$\n",
    "$>./search_and_replace \"wNcOre Un ExEmPle Pas Facilw a Ecrirw \" \"w\" \"e\" | cat -e\n",
    "eNcOre Un ExEmPle Pas Facile a Ecrire $"
   ]
  },
  {
   "cell_type": "code",
   "execution_count": 36,
   "metadata": {},
   "outputs": [
    {
     "name": "stdout",
     "output_type": "stream",
     "text": [
      "eNcOre Un ExEmPle Pas Facile a Ecrire \n"
     ]
    }
   ],
   "source": [
    "def search_and_replace():\n",
    "    extract = input().split('\"',-3)\n",
    "    ep = []\n",
    "    if(len(extract)>=8):\n",
    "        print(\"\")\n",
    "    elif(len(extract)<=5):\n",
    "        print(\"\")\n",
    "    else:\n",
    "        for i in range(1,6,2):\n",
    "            ep.append(extract[i])\n",
    "        if ep[1] in ep[0]:\n",
    "            print(ep[0].replace(ep[1], ep[2]))\n",
    "        else:\n",
    "            print(\"\")\n",
    "search_and_replace()"
   ]
  },
  {
   "attachments": {},
   "cell_type": "markdown",
   "metadata": {},
   "source": [
    "오류 수정 001 : \"zaz\" \"art\" \"zul\"  함수 요청의 경우\n",
    "$ 예제 출력에서는 $> 로 아무것도 출력되지 않았기에 \" \" 공백으로 대체 \n",
    "\n",
    "오류 수정 002 : \"zaz\" \"r\" \"u\" 함수 요청의 경우 $zaz 가 반환되었기 때문에\n",
    "데이터의 값의 인수 내부 내용이 1자리여야만 출력\n",
    "=> 데이터의 길이를 len 을 통해 구해서 1자리일 경우에만 원본 값 출력 => if 문 추가\n"
   ]
  },
  {
   "cell_type": "code",
   "execution_count": null,
   "metadata": {},
   "outputs": [],
   "source": [
    "def search_and_replace():\n",
    "    extract = input().split('\"',-3)\n",
    "    ep = []\n",
    "    if(len(extract)>=8 or len(extract)<=5):\n",
    "        print(\"\")\n",
    "    else:\n",
    "        for i in range(1,6,2):\n",
    "            ep.append(extract[i])\n",
    "        if ep[1] in ep[0]:\n",
    "            print(ep[0].replace(ep[1], ep[2]))\n",
    "        else:\n",
    "            if(len(ep[1])==1 and len(ep[2])==1):\n",
    "                print(ep[0])\n",
    "            else:\n",
    "                print(\"\")\n",
    "search_and_replace()"
   ]
  },
  {
   "attachments": {},
   "cell_type": "markdown",
   "metadata": {},
   "source": [
    "목표 출력\n",
    "Examples:\n",
    "$>./search_and_replace \"Papache est un sabre\" \"a\" \"o\"\n",
    "Popoche est un sobre\n",
    "$>./search_and_replace \"zaz\" \"art\" \"zul\" | cat -e\n",
    "$\n",
    "$>./search_and_replace \"zaz\" \"r\" \"u\" | cat -e\n",
    "zaz$\n",
    "$>./search_and_replace \"jacob\" \"a\" \"b\" \"c\" \"e\" | cat -e\n",
    "$\n",
    "$>./search_and_replace \"ZoZ eT Dovid oiME le METol.\" \"o\" \"a\" | cat -e\n",
    "ZaZ eT David aiME le METal.$\n",
    "$>./search_and_replace \"wNcOre Un ExEmPle Pas Facilw a Ecrirw \" \"w\" \"e\" | cat -e\n",
    "eNcOre Un ExEmPle Pas Facile a Ecrire $"
   ]
  },
  {
   "attachments": {},
   "cell_type": "markdown",
   "metadata": {},
   "source": [
    "업데이트 01 : elif 대신 이전 문장에 or 함수를 넣어 해당 문장의 역할 대체"
   ]
  },
  {
   "attachments": {},
   "cell_type": "markdown",
   "metadata": {},
   "source": [
    "최종 코드"
   ]
  },
  {
   "cell_type": "code",
   "execution_count": 45,
   "metadata": {},
   "outputs": [
    {
     "name": "stdout",
     "output_type": "stream",
     "text": [
      "eNcOre Un ExEmPle Pas Facile a Ecrire \n"
     ]
    }
   ],
   "source": [
    "def search_and_replace():\n",
    "    extract = input().split('\"',-3)\n",
    "    ep = []\n",
    "    if(len(extract)>=8 or len(extract)<=5):\n",
    "        print(\"\")\n",
    "    else:\n",
    "        for i in range(1,6,2):\n",
    "            ep.append(extract[i])\n",
    "        if ep[1] in ep[0]:\n",
    "            print(ep[0].replace(ep[1], ep[2]))\n",
    "        else:\n",
    "            if(len(ep[1])==1 and len(ep[2])==1):\n",
    "                print(ep[0])\n",
    "            else:\n",
    "                print(\"\")\n",
    "search_and_replace()"
   ]
  },
  {
   "attachments": {},
   "cell_type": "markdown",
   "metadata": {},
   "source": [
    "최종_최종 코드\n",
    "splite 뒤에 있는 splite('\"\"',-3) 에서 파라미터인 \"-3\"은 원래 0~9999 . . . 까지 허용이 가능하며 실제로는 splite ( 자를 ) 회수를 지정하는 것으로\n",
    "앞에서부터 표시된 횟수만큼 자르는데 -3을 줌으로서 무한으로 늘린 것입니다\n",
    "\n",
    "없어도 정상 동작하여 삭제하였습니다"
   ]
  },
  {
   "cell_type": "code",
   "execution_count": 6,
   "metadata": {},
   "outputs": [
    {
     "name": "stdout",
     "output_type": "stream",
     "text": [
      "eNcOre Un ExEmPle Pas Facile a Ecrire \n"
     ]
    }
   ],
   "source": [
    "def search_and_replace():\n",
    "    extract = input().split('\"')\n",
    "    ep = []\n",
    "    if(len(extract)>=8 or len(extract)<=5):\n",
    "        print(\"\")\n",
    "    else:\n",
    "        for i in range(1,6,2):\n",
    "            ep.append(extract[i])\n",
    "        if ep[1] in ep[0]:\n",
    "            print(ep[0].replace(ep[1], ep[2]))\n",
    "        else:\n",
    "            if(len(ep[1])==1 and len(ep[2])==1):\n",
    "                print(ep[0])\n",
    "            else:\n",
    "                print(\"\")\n",
    "search_and_replace()"
   ]
  }
 ],
 "metadata": {
  "kernelspec": {
   "display_name": "Python 3",
   "language": "python",
   "name": "python3"
  },
  "language_info": {
   "codemirror_mode": {
    "name": "ipython",
    "version": 3
   },
   "file_extension": ".py",
   "mimetype": "text/x-python",
   "name": "python",
   "nbconvert_exporter": "python",
   "pygments_lexer": "ipython3",
   "version": "3.10.6"
  },
  "orig_nbformat": 4
 },
 "nbformat": 4,
 "nbformat_minor": 2
}
